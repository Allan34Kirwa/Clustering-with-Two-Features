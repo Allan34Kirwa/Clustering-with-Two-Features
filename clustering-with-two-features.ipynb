{
 "cells": [
  {
   "cell_type": "code",
   "execution_count": 1,
   "id": "02362d12",
   "metadata": {
    "_cell_guid": "b1076dfc-b9ad-4769-8c92-a6c4dae69d19",
    "_uuid": "8f2839f25d086af736a60e9eeb907d3b93b6e0e5",
    "execution": {
     "iopub.execute_input": "2024-04-05T08:58:02.079619Z",
     "iopub.status.busy": "2024-04-05T08:58:02.079112Z",
     "iopub.status.idle": "2024-04-05T08:58:05.562346Z",
     "shell.execute_reply": "2024-04-05T08:58:05.560525Z"
    },
    "papermill": {
     "duration": 3.504156,
     "end_time": "2024-04-05T08:58:05.565217",
     "exception": false,
     "start_time": "2024-04-05T08:58:02.061061",
     "status": "completed"
    },
    "tags": []
   },
   "outputs": [
    {
     "name": "stdout",
     "output_type": "stream",
     "text": [
      "/kaggle/input/survey-of-consumer-finances-data/SCFP2019.csv\n",
      "/kaggle/input/data-dictionary-for-customer-segmentation-usa/hcbk.htm\n"
     ]
    }
   ],
   "source": [
    "import matplotlib.pyplot as plt\n",
    "import pandas as pd\n",
    "import seaborn as sns\n",
    "from IPython.display import VimeoVideo\n",
    "from sklearn.cluster import KMeans\n",
    "from sklearn.metrics import silhouette_score\n",
    "from sklearn.utils.validation import check_is_fitted\n",
    "import os\n",
    "for dirname, _, filenames in os.walk('/kaggle/input'):\n",
    "    for filename in filenames:\n",
    "        print(os.path.join(dirname, filename))"
   ]
  },
  {
   "cell_type": "markdown",
   "id": "94a7c484",
   "metadata": {
    "papermill": {
     "duration": 0.014914,
     "end_time": "2024-04-05T08:58:05.596362",
     "exception": false,
     "start_time": "2024-04-05T08:58:05.581448",
     "status": "completed"
    },
    "tags": []
   },
   "source": [
    "`Prepare Data`"
   ]
  },
  {
   "cell_type": "markdown",
   "id": "63067199",
   "metadata": {
    "papermill": {
     "duration": 0.015459,
     "end_time": "2024-04-05T08:58:05.629056",
     "exception": false,
     "start_time": "2024-04-05T08:58:05.613597",
     "status": "completed"
    },
    "tags": []
   },
   "source": [
    "1. Import\n",
    "\n",
    "\n",
    "\n",
    "Just like always, we need to begin by bringing our data into the project. We spent some time in the previous lesson working with a subset of the larger SCF dataset called \"TURNFEAR\". Let's start with that."
   ]
  },
  {
   "cell_type": "markdown",
   "id": "273e44c2",
   "metadata": {
    "papermill": {
     "duration": 0.017182,
     "end_time": "2024-04-05T08:58:05.663764",
     "exception": false,
     "start_time": "2024-04-05T08:58:05.646582",
     "status": "completed"
    },
    "tags": []
   },
   "source": [
    "Task 6.2.1: Create a wrangle function that takes a path of a CSV file as input, reads the file into a DataFrame, subsets the data to households that have been turned down for credit or feared being denied credit in the past 5 years (see \"TURNFEAR\"), and returns the subset DataFrame."
   ]
  },
  {
   "cell_type": "code",
   "execution_count": 2,
   "id": "90875d5b",
   "metadata": {
    "execution": {
     "iopub.execute_input": "2024-04-05T08:58:05.699505Z",
     "iopub.status.busy": "2024-04-05T08:58:05.698705Z",
     "iopub.status.idle": "2024-04-05T08:58:05.706632Z",
     "shell.execute_reply": "2024-04-05T08:58:05.705324Z"
    },
    "papermill": {
     "duration": 0.030154,
     "end_time": "2024-04-05T08:58:05.710317",
     "exception": false,
     "start_time": "2024-04-05T08:58:05.680163",
     "status": "completed"
    },
    "tags": []
   },
   "outputs": [],
   "source": [
    "def wrangle(filepath):\n",
    "    df = pd.read_csv(filepath)  # Read CSV file into DataFrame\n",
    "    \n",
    "    mask = df[\"TURNFEAR\"] == 1  # Create boolean mask\n",
    "    \n",
    "    df = df[mask]  # Apply mask to filter DataFrame\n",
    "    \n",
    "    return df  # Return filtered DataFrame"
   ]
  },
  {
   "cell_type": "markdown",
   "id": "561d87dc",
   "metadata": {
    "papermill": {
     "duration": 0.016777,
     "end_time": "2024-04-05T08:58:05.744690",
     "exception": false,
     "start_time": "2024-04-05T08:58:05.727913",
     "status": "completed"
    },
    "tags": []
   },
   "source": [
    "And now that we've got that taken care of, we'll import the data and see what we've got.\n",
    "\n",
    "Task 6.2.2: Use your wrangle function to read the file SCFP2019.csv.gz into a DataFrame named df."
   ]
  },
  {
   "cell_type": "code",
   "execution_count": 3,
   "id": "c473d9f9",
   "metadata": {
    "execution": {
     "iopub.execute_input": "2024-04-05T08:58:05.778854Z",
     "iopub.status.busy": "2024-04-05T08:58:05.778369Z",
     "iopub.status.idle": "2024-04-05T08:58:07.709024Z",
     "shell.execute_reply": "2024-04-05T08:58:07.707640Z"
    },
    "papermill": {
     "duration": 1.951653,
     "end_time": "2024-04-05T08:58:07.712294",
     "exception": false,
     "start_time": "2024-04-05T08:58:05.760641",
     "status": "completed"
    },
    "tags": []
   },
   "outputs": [
    {
     "name": "stdout",
     "output_type": "stream",
     "text": [
      "df type: <class 'pandas.core.frame.DataFrame'>\n",
      "df shape: (4623, 356)\n"
     ]
    },
    {
     "data": {
      "text/html": [
       "<div>\n",
       "<style scoped>\n",
       "    .dataframe tbody tr th:only-of-type {\n",
       "        vertical-align: middle;\n",
       "    }\n",
       "\n",
       "    .dataframe tbody tr th {\n",
       "        vertical-align: top;\n",
       "    }\n",
       "\n",
       "    .dataframe thead th {\n",
       "        text-align: right;\n",
       "    }\n",
       "</style>\n",
       "<table border=\"1\" class=\"dataframe\">\n",
       "  <thead>\n",
       "    <tr style=\"text-align: right;\">\n",
       "      <th></th>\n",
       "      <th>YY1</th>\n",
       "      <th>Y1</th>\n",
       "      <th>WGT</th>\n",
       "      <th>HHSEX</th>\n",
       "      <th>AGE</th>\n",
       "      <th>AGECL</th>\n",
       "      <th>EDUC</th>\n",
       "      <th>EDCL</th>\n",
       "      <th>MARRIED</th>\n",
       "      <th>KIDS</th>\n",
       "      <th>...</th>\n",
       "      <th>NWCAT</th>\n",
       "      <th>INCCAT</th>\n",
       "      <th>ASSETCAT</th>\n",
       "      <th>NINCCAT</th>\n",
       "      <th>NINC2CAT</th>\n",
       "      <th>NWPCTLECAT</th>\n",
       "      <th>INCPCTLECAT</th>\n",
       "      <th>NINCPCTLECAT</th>\n",
       "      <th>INCQRTCAT</th>\n",
       "      <th>NINCQRTCAT</th>\n",
       "    </tr>\n",
       "  </thead>\n",
       "  <tbody>\n",
       "    <tr>\n",
       "      <th>5</th>\n",
       "      <td>2</td>\n",
       "      <td>21</td>\n",
       "      <td>3790.476607</td>\n",
       "      <td>1</td>\n",
       "      <td>50</td>\n",
       "      <td>3</td>\n",
       "      <td>8</td>\n",
       "      <td>2</td>\n",
       "      <td>1</td>\n",
       "      <td>3</td>\n",
       "      <td>...</td>\n",
       "      <td>1</td>\n",
       "      <td>2</td>\n",
       "      <td>1</td>\n",
       "      <td>2</td>\n",
       "      <td>1</td>\n",
       "      <td>1</td>\n",
       "      <td>4</td>\n",
       "      <td>4</td>\n",
       "      <td>2</td>\n",
       "      <td>2</td>\n",
       "    </tr>\n",
       "    <tr>\n",
       "      <th>6</th>\n",
       "      <td>2</td>\n",
       "      <td>22</td>\n",
       "      <td>3798.868505</td>\n",
       "      <td>1</td>\n",
       "      <td>50</td>\n",
       "      <td>3</td>\n",
       "      <td>8</td>\n",
       "      <td>2</td>\n",
       "      <td>1</td>\n",
       "      <td>3</td>\n",
       "      <td>...</td>\n",
       "      <td>1</td>\n",
       "      <td>2</td>\n",
       "      <td>1</td>\n",
       "      <td>2</td>\n",
       "      <td>1</td>\n",
       "      <td>1</td>\n",
       "      <td>4</td>\n",
       "      <td>3</td>\n",
       "      <td>2</td>\n",
       "      <td>2</td>\n",
       "    </tr>\n",
       "    <tr>\n",
       "      <th>7</th>\n",
       "      <td>2</td>\n",
       "      <td>23</td>\n",
       "      <td>3799.468393</td>\n",
       "      <td>1</td>\n",
       "      <td>50</td>\n",
       "      <td>3</td>\n",
       "      <td>8</td>\n",
       "      <td>2</td>\n",
       "      <td>1</td>\n",
       "      <td>3</td>\n",
       "      <td>...</td>\n",
       "      <td>1</td>\n",
       "      <td>2</td>\n",
       "      <td>1</td>\n",
       "      <td>2</td>\n",
       "      <td>1</td>\n",
       "      <td>1</td>\n",
       "      <td>4</td>\n",
       "      <td>4</td>\n",
       "      <td>2</td>\n",
       "      <td>2</td>\n",
       "    </tr>\n",
       "    <tr>\n",
       "      <th>8</th>\n",
       "      <td>2</td>\n",
       "      <td>24</td>\n",
       "      <td>3788.076005</td>\n",
       "      <td>1</td>\n",
       "      <td>50</td>\n",
       "      <td>3</td>\n",
       "      <td>8</td>\n",
       "      <td>2</td>\n",
       "      <td>1</td>\n",
       "      <td>3</td>\n",
       "      <td>...</td>\n",
       "      <td>1</td>\n",
       "      <td>2</td>\n",
       "      <td>1</td>\n",
       "      <td>2</td>\n",
       "      <td>1</td>\n",
       "      <td>1</td>\n",
       "      <td>4</td>\n",
       "      <td>4</td>\n",
       "      <td>2</td>\n",
       "      <td>2</td>\n",
       "    </tr>\n",
       "    <tr>\n",
       "      <th>9</th>\n",
       "      <td>2</td>\n",
       "      <td>25</td>\n",
       "      <td>3793.066589</td>\n",
       "      <td>1</td>\n",
       "      <td>50</td>\n",
       "      <td>3</td>\n",
       "      <td>8</td>\n",
       "      <td>2</td>\n",
       "      <td>1</td>\n",
       "      <td>3</td>\n",
       "      <td>...</td>\n",
       "      <td>1</td>\n",
       "      <td>2</td>\n",
       "      <td>1</td>\n",
       "      <td>2</td>\n",
       "      <td>1</td>\n",
       "      <td>1</td>\n",
       "      <td>4</td>\n",
       "      <td>4</td>\n",
       "      <td>2</td>\n",
       "      <td>2</td>\n",
       "    </tr>\n",
       "  </tbody>\n",
       "</table>\n",
       "<p>5 rows × 356 columns</p>\n",
       "</div>"
      ],
      "text/plain": [
       "   YY1  Y1          WGT  HHSEX  AGE  AGECL  EDUC  EDCL  MARRIED  KIDS  ...  \\\n",
       "5    2  21  3790.476607      1   50      3     8     2        1     3  ...   \n",
       "6    2  22  3798.868505      1   50      3     8     2        1     3  ...   \n",
       "7    2  23  3799.468393      1   50      3     8     2        1     3  ...   \n",
       "8    2  24  3788.076005      1   50      3     8     2        1     3  ...   \n",
       "9    2  25  3793.066589      1   50      3     8     2        1     3  ...   \n",
       "\n",
       "   NWCAT  INCCAT  ASSETCAT  NINCCAT  NINC2CAT  NWPCTLECAT  INCPCTLECAT  \\\n",
       "5      1       2         1        2         1           1            4   \n",
       "6      1       2         1        2         1           1            4   \n",
       "7      1       2         1        2         1           1            4   \n",
       "8      1       2         1        2         1           1            4   \n",
       "9      1       2         1        2         1           1            4   \n",
       "\n",
       "   NINCPCTLECAT  INCQRTCAT  NINCQRTCAT  \n",
       "5             4          2           2  \n",
       "6             3          2           2  \n",
       "7             4          2           2  \n",
       "8             4          2           2  \n",
       "9             4          2           2  \n",
       "\n",
       "[5 rows x 356 columns]"
      ]
     },
     "execution_count": 3,
     "metadata": {},
     "output_type": "execute_result"
    }
   ],
   "source": [
    "\n",
    "# Call the wrangle function to load and process data\n",
    "df = wrangle(\"/kaggle/input/survey-of-consumer-finances-data/SCFP2019.csv\")\n",
    "\n",
    "# Print type and shape of the DataFrame\n",
    "print(\"df type:\", type(df))\n",
    "print(\"df shape:\", df.shape)\n",
    "\n",
    "# Display the first few rows of the DataFrame\n",
    "df.head()"
   ]
  },
  {
   "cell_type": "markdown",
   "id": "df9e0e97",
   "metadata": {
    "papermill": {
     "duration": 0.019522,
     "end_time": "2024-04-05T08:58:07.748556",
     "exception": false,
     "start_time": "2024-04-05T08:58:07.729034",
     "status": "completed"
    },
    "tags": []
   },
   "source": [
    "`2. Explore`"
   ]
  },
  {
   "cell_type": "markdown",
   "id": "5d6bcd40",
   "metadata": {
    "papermill": {
     "duration": 0.016645,
     "end_time": "2024-04-05T08:58:07.784147",
     "exception": false,
     "start_time": "2024-04-05T08:58:07.767502",
     "status": "completed"
    },
    "tags": []
   },
   "source": [
    "Task 6.2.3: Create a scatter plot of that shows the total value of primary residence of a household (\"HOUSES\") as a function of the total value of household debt (\"DEBT\"). Be sure to label your x-axis as \"Household Debt\", your y-axis as \"Home Value\", and use the title \"Credit Fearful: Home Value vs. Household Debt\"."
   ]
  },
  {
   "cell_type": "code",
   "execution_count": 4,
   "id": "928df49e",
   "metadata": {
    "execution": {
     "iopub.execute_input": "2024-04-05T08:58:07.819289Z",
     "iopub.status.busy": "2024-04-05T08:58:07.818812Z",
     "iopub.status.idle": "2024-04-05T08:58:07.828766Z",
     "shell.execute_reply": "2024-04-05T08:58:07.827583Z"
    },
    "papermill": {
     "duration": 0.030246,
     "end_time": "2024-04-05T08:58:07.831681",
     "exception": false,
     "start_time": "2024-04-05T08:58:07.801435",
     "status": "completed"
    },
    "tags": []
   },
   "outputs": [
    {
     "data": {
      "text/plain": [
       "5      0.014142\n",
       "6      0.014606\n",
       "7      0.017736\n",
       "8      0.016345\n",
       "9      0.017852\n",
       "110    0.000000\n",
       "111    0.000000\n",
       "112    0.000000\n",
       "113    0.000000\n",
       "114    0.000000\n",
       "Name: DEBT, dtype: float64"
      ]
     },
     "execution_count": 4,
     "metadata": {},
     "output_type": "execute_result"
    }
   ],
   "source": [
    "(df[\"DEBT\"] / 1e6).head(10)"
   ]
  },
  {
   "cell_type": "code",
   "execution_count": 5,
   "id": "be47aa22",
   "metadata": {
    "execution": {
     "iopub.execute_input": "2024-04-05T08:58:07.868943Z",
     "iopub.status.busy": "2024-04-05T08:58:07.868527Z",
     "iopub.status.idle": "2024-04-05T08:58:08.266723Z",
     "shell.execute_reply": "2024-04-05T08:58:08.265420Z"
    },
    "papermill": {
     "duration": 0.41871,
     "end_time": "2024-04-05T08:58:08.269533",
     "exception": false,
     "start_time": "2024-04-05T08:58:07.850823",
     "status": "completed"
    },
    "tags": []
   },
   "outputs": [
    {
     "data": {
      "image/png": "[encoded data removed]",
      "text/plain": [
       "<Figure size 640x480 with 1 Axes>"
      ]
     },
     "metadata": {},
     "output_type": "display_data"
    }
   ],
   "source": [
    "# Plot \"HOUSES\" vs \"DEBT\"\n",
    "sns.scatterplot(x=df[\"DEBT\"]/ 1e6, y=df[\"HOUSES\"]/ 1e6)\n",
    "\n",
    "plt.xlabel(\"Household Debt [$1M]\")\n",
    "plt.ylabel(\"Home Value [$1M]\")\n",
    "plt.title(\"Credit Fearful: Home Value vs. Household Debt\");"
   ]
  },
  {
   "cell_type": "markdown",
   "id": "39225b68",
   "metadata": {
    "papermill": {
     "duration": 0.016314,
     "end_time": "2024-04-05T08:58:08.305813",
     "exception": false,
     "start_time": "2024-04-05T08:58:08.289499",
     "status": "completed"
    },
    "tags": []
   },
   "source": [
    "`3. Split`"
   ]
  },
  {
   "cell_type": "markdown",
   "id": "f1b99223",
   "metadata": {
    "papermill": {
     "duration": 0.018127,
     "end_time": "2024-04-05T08:58:08.343233",
     "exception": false,
     "start_time": "2024-04-05T08:58:08.325106",
     "status": "completed"
    },
    "tags": []
   },
   "source": [
    "We need to split our data, but we're not going to need target vector or a test set this time around. That's because the model we'll be building involves unsupervised learning. It's called unsupervised because the model doesn't try to map input to a st of labels or targets that already exist. It's kind of like how humans learn new skills, in that we don't always have models to copy. Sometimes, we just try out something and see what happens. Keep in mind that this doesn't make these models any less useful, it just makes them different.\n",
    "\n",
    "So, keeping that in mind, let's do the split."
   ]
  },
  {
   "cell_type": "markdown",
   "id": "7ecee188",
   "metadata": {
    "papermill": {
     "duration": 0.015825,
     "end_time": "2024-04-05T08:58:08.375928",
     "exception": false,
     "start_time": "2024-04-05T08:58:08.360103",
     "status": "completed"
    },
    "tags": []
   },
   "source": [
    "Task 6.2.4: Create the feature matrix X. It should contain two features only: \"DEBT\" and \"HOUSES\"."
   ]
  },
  {
   "cell_type": "code",
   "execution_count": 6,
   "id": "6eec83fc",
   "metadata": {
    "execution": {
     "iopub.execute_input": "2024-04-05T08:58:08.412620Z",
     "iopub.status.busy": "2024-04-05T08:58:08.412141Z",
     "iopub.status.idle": "2024-04-05T08:58:08.428844Z",
     "shell.execute_reply": "2024-04-05T08:58:08.427157Z"
    },
    "papermill": {
     "duration": 0.040808,
     "end_time": "2024-04-05T08:58:08.433744",
     "exception": false,
     "start_time": "2024-04-05T08:58:08.392936",
     "status": "completed"
    },
    "tags": []
   },
   "outputs": [
    {
     "name": "stdout",
     "output_type": "stream",
     "text": [
      "X type: <class 'pandas.core.frame.DataFrame'>\n",
      "X shape: (4623, 2)\n"
     ]
    },
    {
     "data": {
      "text/html": [
       "<div>\n",
       "<style scoped>\n",
       "    .dataframe tbody tr th:only-of-type {\n",
       "        vertical-align: middle;\n",
       "    }\n",
       "\n",
       "    .dataframe tbody tr th {\n",
       "        vertical-align: top;\n",
       "    }\n",
       "\n",
       "    .dataframe thead th {\n",
       "        text-align: right;\n",
       "    }\n",
       "</style>\n",
       "<table border=\"1\" class=\"dataframe\">\n",
       "  <thead>\n",
       "    <tr style=\"text-align: right;\">\n",
       "      <th></th>\n",
       "      <th>DEBT</th>\n",
       "      <th>HOUSES</th>\n",
       "    </tr>\n",
       "  </thead>\n",
       "  <tbody>\n",
       "    <tr>\n",
       "      <th>5</th>\n",
       "      <td>14142.304636</td>\n",
       "      <td>0.0</td>\n",
       "    </tr>\n",
       "    <tr>\n",
       "      <th>6</th>\n",
       "      <td>14605.986755</td>\n",
       "      <td>0.0</td>\n",
       "    </tr>\n",
       "    <tr>\n",
       "      <th>7</th>\n",
       "      <td>17735.841060</td>\n",
       "      <td>0.0</td>\n",
       "    </tr>\n",
       "    <tr>\n",
       "      <th>8</th>\n",
       "      <td>16344.794702</td>\n",
       "      <td>0.0</td>\n",
       "    </tr>\n",
       "    <tr>\n",
       "      <th>9</th>\n",
       "      <td>17851.761589</td>\n",
       "      <td>0.0</td>\n",
       "    </tr>\n",
       "  </tbody>\n",
       "</table>\n",
       "</div>"
      ],
      "text/plain": [
       "           DEBT  HOUSES\n",
       "5  14142.304636     0.0\n",
       "6  14605.986755     0.0\n",
       "7  17735.841060     0.0\n",
       "8  16344.794702     0.0\n",
       "9  17851.761589     0.0"
      ]
     },
     "execution_count": 6,
     "metadata": {},
     "output_type": "execute_result"
    }
   ],
   "source": [
    "X = df[[\"DEBT\", \"HOUSES\"]]\n",
    "\n",
    "print(\"X type:\", type(X))\n",
    "print(\"X shape:\", X.shape)\n",
    "X.head()"
   ]
  },
  {
   "cell_type": "markdown",
   "id": "3db064ab",
   "metadata": {
    "papermill": {
     "duration": 0.016339,
     "end_time": "2024-04-05T08:58:08.467557",
     "exception": false,
     "start_time": "2024-04-05T08:58:08.451218",
     "status": "completed"
    },
    "tags": []
   },
   "source": [
    "`4. Build Model`"
   ]
  },
  {
   "cell_type": "markdown",
   "id": "61ef960c",
   "metadata": {
    "papermill": {
     "duration": 0.016264,
     "end_time": "2024-04-05T08:58:08.500538",
     "exception": false,
     "start_time": "2024-04-05T08:58:08.484274",
     "status": "completed"
    },
    "tags": []
   },
   "source": [
    "`5. Iterate`"
   ]
  },
  {
   "cell_type": "markdown",
   "id": "a7a11cdd",
   "metadata": {
    "papermill": {
     "duration": 0.016318,
     "end_time": "2024-04-05T08:58:08.533512",
     "exception": false,
     "start_time": "2024-04-05T08:58:08.517194",
     "status": "completed"
    },
    "tags": []
   },
   "source": [
    "Task 6.2.7: Build a KMeans model, assign it to the variable name model, and fit it to the training data X."
   ]
  },
  {
   "cell_type": "code",
   "execution_count": 7,
   "id": "528f09be",
   "metadata": {
    "execution": {
     "iopub.execute_input": "2024-04-05T08:58:08.569282Z",
     "iopub.status.busy": "2024-04-05T08:58:08.568814Z",
     "iopub.status.idle": "2024-04-05T08:58:09.661934Z",
     "shell.execute_reply": "2024-04-05T08:58:09.660619Z"
    },
    "papermill": {
     "duration": 1.114239,
     "end_time": "2024-04-05T08:58:09.664851",
     "exception": false,
     "start_time": "2024-04-05T08:58:08.550612",
     "status": "completed"
    },
    "tags": []
   },
   "outputs": [
    {
     "name": "stdout",
     "output_type": "stream",
     "text": [
      "model type: <class 'sklearn.cluster._kmeans.KMeans'>\n"
     ]
    },
    {
     "name": "stderr",
     "output_type": "stream",
     "text": [
      "/opt/conda/lib/python3.10/site-packages/sklearn/cluster/_kmeans.py:870: FutureWarning: The default value of `n_init` will change from 10 to 'auto' in 1.4. Set the value of `n_init` explicitly to suppress the warning\n",
      "  warnings.warn(\n"
     ]
    },
    {
     "data": {
      "text/html": [
       "<style>#sk-container-id-1 {color: black;background-color: white;}#sk-container-id-1 pre{padding: 0;}#sk-container-id-1 div.sk-toggleable {background-color: white;}#sk-container-id-1 label.sk-toggleable__label {cursor: pointer;display: block;width: 100%;margin-bottom: 0;padding: 0.3em;box-sizing: border-box;text-align: center;}#sk-container-id-1 label.sk-toggleable__label-arrow:before {content: \"▸\";float: left;margin-right: 0.25em;color: #696969;}#sk-container-id-1 label.sk-toggleable__label-arrow:hover:before {color: black;}#sk-container-id-1 div.sk-estimator:hover label.sk-toggleable__label-arrow:before {color: black;}#sk-container-id-1 div.sk-toggleable__content {max-height: 0;max-width: 0;overflow: hidden;text-align: left;background-color: #f0f8ff;}#sk-container-id-1 div.sk-toggleable__content pre {margin: 0.2em;color: black;border-radius: 0.25em;background-color: #f0f8ff;}#sk-container-id-1 input.sk-toggleable__control:checked~div.sk-toggleable__content {max-height: 200px;max-width: 100%;overflow: auto;}#sk-container-id-1 input.sk-toggleable__control:checked~label.sk-toggleable__label-arrow:before {content: \"▾\";}#sk-container-id-1 div.sk-estimator input.sk-toggleable__control:checked~label.sk-toggleable__label {background-color: #d4ebff;}#sk-container-id-1 div.sk-label input.sk-toggleable__control:checked~label.sk-toggleable__label {background-color: #d4ebff;}#sk-container-id-1 input.sk-hidden--visually {border: 0;clip: rect(1px 1px 1px 1px);clip: rect(1px, 1px, 1px, 1px);height: 1px;margin: -1px;overflow: hidden;padding: 0;position: absolute;width: 1px;}#sk-container-id-1 div.sk-estimator {font-family: monospace;background-color: #f0f8ff;border: 1px dotted black;border-radius: 0.25em;box-sizing: border-box;margin-bottom: 0.5em;}#sk-container-id-1 div.sk-estimator:hover {background-color: #d4ebff;}#sk-container-id-1 div.sk-parallel-item::after {content: \"\";width: 100%;border-bottom: 1px solid gray;flex-grow: 1;}#sk-container-id-1 div.sk-label:hover label.sk-toggleable__label {background-color: #d4ebff;}#sk-container-id-1 div.sk-serial::before {content: \"\";position: absolute;border-left: 1px solid gray;box-sizing: border-box;top: 0;bottom: 0;left: 50%;z-index: 0;}#sk-container-id-1 div.sk-serial {display: flex;flex-direction: column;align-items: center;background-color: white;padding-right: 0.2em;padding-left: 0.2em;position: relative;}#sk-container-id-1 div.sk-item {position: relative;z-index: 1;}#sk-container-id-1 div.sk-parallel {display: flex;align-items: stretch;justify-content: center;background-color: white;position: relative;}#sk-container-id-1 div.sk-item::before, #sk-container-id-1 div.sk-parallel-item::before {content: \"\";position: absolute;border-left: 1px solid gray;box-sizing: border-box;top: 0;bottom: 0;left: 50%;z-index: -1;}#sk-container-id-1 div.sk-parallel-item {display: flex;flex-direction: column;z-index: 1;position: relative;background-color: white;}#sk-container-id-1 div.sk-parallel-item:first-child::after {align-self: flex-end;width: 50%;}#sk-container-id-1 div.sk-parallel-item:last-child::after {align-self: flex-start;width: 50%;}#sk-container-id-1 div.sk-parallel-item:only-child::after {width: 0;}#sk-container-id-1 div.sk-dashed-wrapped {border: 1px dashed gray;margin: 0 0.4em 0.5em 0.4em;box-sizing: border-box;padding-bottom: 0.4em;background-color: white;}#sk-container-id-1 div.sk-label label {font-family: monospace;font-weight: bold;display: inline-block;line-height: 1.2em;}#sk-container-id-1 div.sk-label-container {text-align: center;}#sk-container-id-1 div.sk-container {/* jupyter's `normalize.less` sets `[hidden] { display: none; }` but bootstrap.min.css set `[hidden] { display: none !important; }` so we also need the `!important` here to be able to override the default hidden behavior on the sphinx rendered scikit-learn.org. See: https://github.com/scikit-learn/scikit-learn/issues/21755 */display: inline-block !important;position: relative;}#sk-container-id-1 div.sk-text-repr-fallback {display: none;}</style><div id=\"sk-container-id-1\" class=\"sk-top-container\"><div class=\"sk-text-repr-fallback\"><pre>KMeans(n_clusters=3, random_state=42)</pre><b>In a Jupyter environment, please rerun this cell to show the HTML representation or trust the notebook. <br />On GitHub, the HTML representation is unable to render, please try loading this page with nbviewer.org.</b></div><div class=\"sk-container\" hidden><div class=\"sk-item\"><div class=\"sk-estimator sk-toggleable\"><input class=\"sk-toggleable__control sk-hidden--visually\" id=\"sk-estimator-id-1\" type=\"checkbox\" checked><label for=\"sk-estimator-id-1\" class=\"sk-toggleable__label sk-toggleable__label-arrow\">KMeans</label><div class=\"sk-toggleable__content\"><pre>KMeans(n_clusters=3, random_state=42)</pre></div></div></div></div></div>"
      ],
      "text/plain": [
       "KMeans(n_clusters=3, random_state=42)"
      ]
     },
     "execution_count": 7,
     "metadata": {},
     "output_type": "execute_result"
    }
   ],
   "source": [
    "# Build model\n",
    "model = KMeans(n_clusters=3, random_state=42)\n",
    "print(\"model type:\", type(model))\n",
    "\n",
    "# Fit model to data\n",
    "model.fit(X)\n",
    "\n",
    "# Assert that model has been fit to data\n",
    "# check_is_fitted(model)"
   ]
  },
  {
   "cell_type": "markdown",
   "id": "ce1fa91e",
   "metadata": {
    "papermill": {
     "duration": 0.01696,
     "end_time": "2024-04-05T08:58:09.699504",
     "exception": false,
     "start_time": "2024-04-05T08:58:09.682544",
     "status": "completed"
    },
    "tags": []
   },
   "source": [
    "And there it is. 42 datapoints spread across three clusters. Let's grab the labels that the model has assigned to the data points so we can start making a new visualization."
   ]
  },
  {
   "cell_type": "markdown",
   "id": "5259a427",
   "metadata": {
    "papermill": {
     "duration": 0.017869,
     "end_time": "2024-04-05T08:58:09.734754",
     "exception": false,
     "start_time": "2024-04-05T08:58:09.716885",
     "status": "completed"
    },
    "tags": []
   },
   "source": [
    "Task 6.2.8: Extract the labels that your model created during training and assign them to the variable labels."
   ]
  },
  {
   "cell_type": "code",
   "execution_count": 8,
   "id": "d4db44ba",
   "metadata": {
    "execution": {
     "iopub.execute_input": "2024-04-05T08:58:09.776156Z",
     "iopub.status.busy": "2024-04-05T08:58:09.775560Z",
     "iopub.status.idle": "2024-04-05T08:58:09.785688Z",
     "shell.execute_reply": "2024-04-05T08:58:09.784451Z"
    },
    "papermill": {
     "duration": 0.033568,
     "end_time": "2024-04-05T08:58:09.789706",
     "exception": false,
     "start_time": "2024-04-05T08:58:09.756138",
     "status": "completed"
    },
    "tags": []
   },
   "outputs": [
    {
     "name": "stdout",
     "output_type": "stream",
     "text": [
      "labels type: <class 'numpy.ndarray'>\n",
      "labels shape: (4623,)\n"
     ]
    },
    {
     "data": {
      "text/plain": [
       "array([0, 0, 0, 0, 0, 0, 0, 0, 0, 0], dtype=int32)"
      ]
     },
     "execution_count": 8,
     "metadata": {},
     "output_type": "execute_result"
    }
   ],
   "source": [
    "# Accessing labels from the model\n",
    "labels = model.labels_\n",
    "\n",
    "# Printing the type of labels\n",
    "print(\"labels type:\", type(labels))\n",
    "\n",
    "# Printing the shape of labels\n",
    "print(\"labels shape:\", labels.shape)\n",
    "\n",
    "# Displaying the first 10 labels\n",
    "labels[:10]\n"
   ]
  },
  {
   "cell_type": "markdown",
   "id": "a2b781e7",
   "metadata": {
    "papermill": {
     "duration": 0.01715,
     "end_time": "2024-04-05T08:58:09.908362",
     "exception": false,
     "start_time": "2024-04-05T08:58:09.891212",
     "status": "completed"
    },
    "tags": []
   },
   "source": [
    "Using the labels we just extracted, let's recreate the scatter plot from before, this time we'll color each point according to the cluster to which the model assigned it."
   ]
  },
  {
   "cell_type": "markdown",
   "id": "e4db00a8",
   "metadata": {
    "papermill": {
     "duration": 0.017174,
     "end_time": "2024-04-05T08:58:09.943274",
     "exception": false,
     "start_time": "2024-04-05T08:58:09.926100",
     "status": "completed"
    },
    "tags": []
   },
   "source": [
    "Task 6.2.9: Recreate the \"Home Value vs. Household Debt\" scatter plot you made above, but with two changes. First, use seaborn to create the plot. Second, pass your labels to the hue argument, and set the palette argument to \"deep\"."
   ]
  },
  {
   "cell_type": "code",
   "execution_count": 9,
   "id": "f00c2c59",
   "metadata": {
    "execution": {
     "iopub.execute_input": "2024-04-05T08:58:09.980206Z",
     "iopub.status.busy": "2024-04-05T08:58:09.979796Z",
     "iopub.status.idle": "2024-04-05T08:58:10.742932Z",
     "shell.execute_reply": "2024-04-05T08:58:10.741479Z"
    },
    "papermill": {
     "duration": 0.7854,
     "end_time": "2024-04-05T08:58:10.746271",
     "exception": false,
     "start_time": "2024-04-05T08:58:09.960871",
     "status": "completed"
    },
    "tags": []
   },
   "outputs": [
    {
     "data": {
      "image/png": "[encoded data removed]",
      "text/plain": [
       "<Figure size 640x480 with 1 Axes>"
      ]
     },
     "metadata": {},
     "output_type": "display_data"
    }
   ],
   "source": [
    "# Scatter plot with scaled debt and house values\n",
    "sns.scatterplot(\n",
    "    x=df[\"DEBT\"] / 1e6,  # x-axis: debt in millions\n",
    "    y=df[\"HOUSES\"] / 1e6,  # y-axis: house values in millions\n",
    "    hue=labels,  # color by label\n",
    "    palette=\"deep\"  # use deep color palette\n",
    ")\n",
    "\n",
    "plt.xlabel(\"Household Debt [$1M]\")  # x-axis label\n",
    "plt.ylabel(\"Home Value [$1M]\")  # y-axis label\n",
    "plt.title(\"Credit Fearful: Home Value vs. Household Debt\");  # plot title"
   ]
  },
  {
   "cell_type": "markdown",
   "id": "81e58546",
   "metadata": {
    "papermill": {
     "duration": 0.018119,
     "end_time": "2024-04-05T08:58:10.785155",
     "exception": false,
     "start_time": "2024-04-05T08:58:10.767036",
     "status": "completed"
    },
    "tags": []
   },
   "source": [
    "Nice! Each cluster has its own color. The centroids are still missing, so let's pull those out."
   ]
  },
  {
   "cell_type": "markdown",
   "id": "626ab0ba",
   "metadata": {
    "papermill": {
     "duration": 0.018575,
     "end_time": "2024-04-05T08:58:10.824552",
     "exception": false,
     "start_time": "2024-04-05T08:58:10.805977",
     "status": "completed"
    },
    "tags": []
   },
   "source": [
    "Task 6.2.10: Extract the centroids that your model created during training, and assign them to the variable centroids."
   ]
  },
  {
   "cell_type": "code",
   "execution_count": 10,
   "id": "47218108",
   "metadata": {
    "execution": {
     "iopub.execute_input": "2024-04-05T08:58:10.865693Z",
     "iopub.status.busy": "2024-04-05T08:58:10.864910Z",
     "iopub.status.idle": "2024-04-05T08:58:10.876467Z",
     "shell.execute_reply": "2024-04-05T08:58:10.875038Z"
    },
    "papermill": {
     "duration": 0.037057,
     "end_time": "2024-04-05T08:58:10.880618",
     "exception": false,
     "start_time": "2024-04-05T08:58:10.843561",
     "status": "completed"
    },
    "tags": []
   },
   "outputs": [
    {
     "name": "stdout",
     "output_type": "stream",
     "text": [
      "centroids type: <class 'numpy.ndarray'>\n",
      "centroids shape: (3, 2)\n"
     ]
    },
    {
     "data": {
      "text/plain": [
       "array([[  105508.05824359,   134642.03534343],\n",
       "       [21310946.1192    , 39974035.4966    ],\n",
       "       [ 5872302.19867333, 13524061.81013334]])"
      ]
     },
     "execution_count": 10,
     "metadata": {},
     "output_type": "execute_result"
    }
   ],
   "source": [
    "# Get cluster centers\n",
    "centroids = model.cluster_centers_\n",
    "\n",
    "# Print type of centroids\n",
    "print(\"centroids type:\", type(centroids))\n",
    "\n",
    "# Print shape of centroids\n",
    "print(\"centroids shape:\", centroids.shape)\n",
    "\n",
    "# Display centroids\n",
    "centroids\n"
   ]
  },
  {
   "cell_type": "markdown",
   "id": "fe884427",
   "metadata": {
    "papermill": {
     "duration": 0.018906,
     "end_time": "2024-04-05T08:58:10.922140",
     "exception": false,
     "start_time": "2024-04-05T08:58:10.903234",
     "status": "completed"
    },
    "tags": []
   },
   "source": [
    "Task 6.2.11: Recreate the seaborn \"Home Value vs. Household Debt\" scatter plot you just made, but with one difference: Add the centroids to the plot. Be sure to set the centroids color to \"gray\"."
   ]
  },
  {
   "cell_type": "code",
   "execution_count": 11,
   "id": "28fae0dd",
   "metadata": {
    "execution": {
     "iopub.execute_input": "2024-04-05T08:58:10.960903Z",
     "iopub.status.busy": "2024-04-05T08:58:10.960468Z",
     "iopub.status.idle": "2024-04-05T08:58:11.728526Z",
     "shell.execute_reply": "2024-04-05T08:58:11.726951Z"
    },
    "papermill": {
     "duration": 0.791406,
     "end_time": "2024-04-05T08:58:11.731944",
     "exception": false,
     "start_time": "2024-04-05T08:58:10.940538",
     "status": "completed"
    },
    "tags": []
   },
   "outputs": [
    {
     "data": {
      "image/png": "[encoded data removed]",
      "text/plain": [
       "<Figure size 640x480 with 1 Axes>"
      ]
     },
     "metadata": {},
     "output_type": "display_data"
    }
   ],
   "source": [
    "# Scatter plot \"HOUSES\" vs \"DEBT\"\n",
    "sns.scatterplot(\n",
    "    x=df[\"DEBT\"]/ 1e6,  # Debt in $1M\n",
    "    y=df[\"HOUSES\"]/ 1e6,  # Home value in $1M\n",
    "    hue=labels,  # Cluster labels\n",
    "    palette=\"deep\"\n",
    ")\n",
    "\n",
    "# Add centroids\n",
    "plt.scatter(\n",
    "    x=centroids[:, 0] / 1e6,  # Centroid's debt in $1M\n",
    "    y=centroids[:, 1] / 1e6,  # Centroid's home value in $1M\n",
    "    color=\"gray\",\n",
    "    marker=\"*\",\n",
    "    s=150\n",
    ")\n",
    "\n",
    "# Set labels\n",
    "plt.xlabel(\"Household Debt [$1M]\")\n",
    "plt.ylabel(\"Home Value [$1M]\")\n",
    "plt.title(\"Credit Fearful: Home Value vs. Household Debt\");\n"
   ]
  },
  {
   "cell_type": "markdown",
   "id": "a0532efc",
   "metadata": {
    "papermill": {
     "duration": 0.019171,
     "end_time": "2024-04-05T08:58:11.770529",
     "exception": false,
     "start_time": "2024-04-05T08:58:11.751358",
     "status": "completed"
    },
    "tags": []
   },
   "source": [
    "That looks great, but let's not pat ourselves on the back just yet. Even though our graph makes it look like the clusters are correctly assigned but, as data scientists, we need a numerical evaluation. The data we're using is pretty clear-cut, but if things were a little more muddled, we'd want to run some calculations to make sure we got everything right.\n",
    "\n",
    "There are two metrics that we'll use to evaluate our clusters. We'll start with inertia, which measure the distance between the points within the same cluster."
   ]
  },
  {
   "cell_type": "markdown",
   "id": "6705be77",
   "metadata": {
    "papermill": {
     "duration": 0.019725,
     "end_time": "2024-04-05T08:58:11.810209",
     "exception": false,
     "start_time": "2024-04-05T08:58:11.790484",
     "status": "completed"
    },
    "tags": []
   },
   "source": [
    "Task 6.2.12: Extract the inertia for your model and assign it to the variable inertia."
   ]
  },
  {
   "cell_type": "code",
   "execution_count": 12,
   "id": "ef37cf3a",
   "metadata": {
    "execution": {
     "iopub.execute_input": "2024-04-05T08:58:11.852228Z",
     "iopub.status.busy": "2024-04-05T08:58:11.851778Z",
     "iopub.status.idle": "2024-04-05T08:58:11.858883Z",
     "shell.execute_reply": "2024-04-05T08:58:11.857582Z"
    },
    "papermill": {
     "duration": 0.0318,
     "end_time": "2024-04-05T08:58:11.862619",
     "exception": false,
     "start_time": "2024-04-05T08:58:11.830819",
     "status": "completed"
    },
    "tags": []
   },
   "outputs": [
    {
     "name": "stdout",
     "output_type": "stream",
     "text": [
      "inertia type: <class 'float'>\n",
      "Inertia (3 clusters): 1262532206483913.0\n"
     ]
    }
   ],
   "source": [
    "# Get inertia from the model\n",
    "inertia = model.inertia_\n",
    "\n",
    "# Print the type of inertia\n",
    "print(\"inertia type:\", type(inertia))\n",
    "\n",
    "# Print inertia value for 3 clusters\n",
    "print(\"Inertia (3 clusters):\", inertia)\n"
   ]
  },
  {
   "cell_type": "markdown",
   "id": "8b7ace36",
   "metadata": {
    "papermill": {
     "duration": 0.019812,
     "end_time": "2024-04-05T08:58:11.902053",
     "exception": false,
     "start_time": "2024-04-05T08:58:11.882241",
     "status": "completed"
    },
    "tags": []
   },
   "source": [
    "The \"best\" inertia is 0, and our score is pretty far from that. Does that mean our model is \"bad?\" Not necessarily. Inertia is a measurement of distance (like mean absolute error from Project 2). This means that the unit of measurement for inertia depends on the unit of measurement of our x- and y-axes. And since \"DEBT\" and \"HOUSES\" are measured in tens of millions of dollars, it's not surprising that inertia is so large.\n",
    "\n",
    "However, it would be helpful to have metric that was easier to interpret, and that's where silhouette score comes in. Silhouette score measures the distance between different clusters. It ranges from -1 (the worst) to 1 (the best), so it's easier to interpret than inertia. WQU WorldQuant University Applied Data Science Lab QQQQ"
   ]
  },
  {
   "cell_type": "markdown",
   "id": "9e0ffde0",
   "metadata": {
    "papermill": {
     "duration": 0.018902,
     "end_time": "2024-04-05T08:58:11.940118",
     "exception": false,
     "start_time": "2024-04-05T08:58:11.921216",
     "status": "completed"
    },
    "tags": []
   },
   "source": [
    "Task 6.2.13: Calculate the silhouette score for your model and assign it to the variable ss."
   ]
  },
  {
   "cell_type": "code",
   "execution_count": 13,
   "id": "21e3f032",
   "metadata": {
    "execution": {
     "iopub.execute_input": "2024-04-05T08:58:11.981337Z",
     "iopub.status.busy": "2024-04-05T08:58:11.980864Z",
     "iopub.status.idle": "2024-04-05T08:58:12.453494Z",
     "shell.execute_reply": "2024-04-05T08:58:12.451975Z"
    },
    "papermill": {
     "duration": 0.49724,
     "end_time": "2024-04-05T08:58:12.456620",
     "exception": false,
     "start_time": "2024-04-05T08:58:11.959380",
     "status": "completed"
    },
    "tags": []
   },
   "outputs": [
    {
     "name": "stdout",
     "output_type": "stream",
     "text": [
      "ss type: <class 'numpy.float64'>\n",
      "Silhouette Score (3 clusters): 0.97688424629445\n"
     ]
    }
   ],
   "source": [
    "ss = silhouette_score(X, model.labels_)\n",
    "print(\"ss type:\", type(ss))\n",
    "print(\"Silhouette Score (3 clusters):\", ss)"
   ]
  },
  {
   "cell_type": "markdown",
   "id": "c3fcc521",
   "metadata": {
    "papermill": {
     "duration": 0.019916,
     "end_time": "2024-04-05T08:58:12.496772",
     "exception": false,
     "start_time": "2024-04-05T08:58:12.476856",
     "status": "completed"
    },
    "tags": []
   },
   "source": [
    "Outstanding! 0.976 is pretty close to 1, so our model has done a good job at identifying 3 clusters that are far away from each other.\n",
    "\n",
    "It's important to remember that these performance metrics are the result of the number of clusters we told our model to create. In unsupervised learning, the number of clusters is hyperparameter that you set before training your model. So what would happen if we change the number of clusters? Will it lead to better performance? Let's try!"
   ]
  },
  {
   "cell_type": "markdown",
   "id": "3ab790ab",
   "metadata": {
    "papermill": {
     "duration": 0.019622,
     "end_time": "2024-04-05T08:58:12.535986",
     "exception": false,
     "start_time": "2024-04-05T08:58:12.516364",
     "status": "completed"
    },
    "tags": []
   },
   "source": [
    "Task 6.2.14: Use a for loop to build and train a K-Means model where n_clusters ranges from 2 to 12 (inclusive). Each time a model is trained, calculate the inertia and add it to the list inertia_errors, then calculate the silhouette score and add it to the list silhouette_scores."
   ]
  },
  {
   "cell_type": "code",
   "execution_count": 14,
   "id": "d0ab4d0e",
   "metadata": {
    "execution": {
     "iopub.execute_input": "2024-04-05T08:58:12.576737Z",
     "iopub.status.busy": "2024-04-05T08:58:12.576240Z",
     "iopub.status.idle": "2024-04-05T08:58:28.831268Z",
     "shell.execute_reply": "2024-04-05T08:58:28.829525Z"
    },
    "papermill": {
     "duration": 16.279297,
     "end_time": "2024-04-05T08:58:28.834693",
     "exception": false,
     "start_time": "2024-04-05T08:58:12.555396",
     "status": "completed"
    },
    "tags": []
   },
   "outputs": [
    {
     "name": "stderr",
     "output_type": "stream",
     "text": [
      "/opt/conda/lib/python3.10/site-packages/sklearn/cluster/_kmeans.py:870: FutureWarning: The default value of `n_init` will change from 10 to 'auto' in 1.4. Set the value of `n_init` explicitly to suppress the warning\n",
      "  warnings.warn(\n",
      "/opt/conda/lib/python3.10/site-packages/sklearn/cluster/_kmeans.py:870: FutureWarning: The default value of `n_init` will change from 10 to 'auto' in 1.4. Set the value of `n_init` explicitly to suppress the warning\n",
      "  warnings.warn(\n",
      "/opt/conda/lib/python3.10/site-packages/sklearn/cluster/_kmeans.py:870: FutureWarning: The default value of `n_init` will change from 10 to 'auto' in 1.4. Set the value of `n_init` explicitly to suppress the warning\n",
      "  warnings.warn(\n",
      "/opt/conda/lib/python3.10/site-packages/sklearn/cluster/_kmeans.py:870: FutureWarning: The default value of `n_init` will change from 10 to 'auto' in 1.4. Set the value of `n_init` explicitly to suppress the warning\n",
      "  warnings.warn(\n",
      "/opt/conda/lib/python3.10/site-packages/sklearn/cluster/_kmeans.py:870: FutureWarning: The default value of `n_init` will change from 10 to 'auto' in 1.4. Set the value of `n_init` explicitly to suppress the warning\n",
      "  warnings.warn(\n",
      "/opt/conda/lib/python3.10/site-packages/sklearn/cluster/_kmeans.py:870: FutureWarning: The default value of `n_init` will change from 10 to 'auto' in 1.4. Set the value of `n_init` explicitly to suppress the warning\n",
      "  warnings.warn(\n",
      "/opt/conda/lib/python3.10/site-packages/sklearn/cluster/_kmeans.py:870: FutureWarning: The default value of `n_init` will change from 10 to 'auto' in 1.4. Set the value of `n_init` explicitly to suppress the warning\n",
      "  warnings.warn(\n",
      "/opt/conda/lib/python3.10/site-packages/sklearn/cluster/_kmeans.py:870: FutureWarning: The default value of `n_init` will change from 10 to 'auto' in 1.4. Set the value of `n_init` explicitly to suppress the warning\n",
      "  warnings.warn(\n",
      "/opt/conda/lib/python3.10/site-packages/sklearn/cluster/_kmeans.py:870: FutureWarning: The default value of `n_init` will change from 10 to 'auto' in 1.4. Set the value of `n_init` explicitly to suppress the warning\n",
      "  warnings.warn(\n",
      "/opt/conda/lib/python3.10/site-packages/sklearn/cluster/_kmeans.py:870: FutureWarning: The default value of `n_init` will change from 10 to 'auto' in 1.4. Set the value of `n_init` explicitly to suppress the warning\n",
      "  warnings.warn(\n",
      "/opt/conda/lib/python3.10/site-packages/sklearn/cluster/_kmeans.py:870: FutureWarning: The default value of `n_init` will change from 10 to 'auto' in 1.4. Set the value of `n_init` explicitly to suppress the warning\n",
      "  warnings.warn(\n"
     ]
    },
    {
     "name": "stdout",
     "output_type": "stream",
     "text": [
      "Inertia: [4055509877242491.5, 1262532206483913.0, 733824099167179.5, 415637973082058.4, 316109943946167.6, 244867085128676.62, 202464902389464.47, 153620973481709.3, 134832918336089.8, 115872155481706.78, 100455550824623.27]\n",
      "\n",
      "Silhouette Scores: [0.9855099957519449, 0.97688424629445, 0.9490311483407262, 0.8393300432423354, 0.7287406719885346, 0.7269891143043261, 0.7263840026873423, 0.7335125606462771, 0.6921579929520619, 0.6949309528526951, 0.6951831030976504]\n"
     ]
    }
   ],
   "source": [
    "n_clusters = range(2, 13)\n",
    "inertia_errors = []\n",
    "silhouette_scores = []\n",
    "\n",
    "# Add `for` loop to train model and calculate inertia, silhouette score.\n",
    "for k in n_clusters:\n",
    "    # build model\n",
    "    model = KMeans(n_clusters=k, random_state=42)\n",
    "    \n",
    "    # Train model\n",
    "    model.fit(X)\n",
    "    \n",
    "    # Calculate intertia\n",
    "    inertia_errors.append(model.inertia_)\n",
    "    \n",
    "    # Calculate SS\n",
    "    silhouette_scores.append(silhouette_score(X, model.labels_))\n",
    "\n",
    "# print(\"inertia_errors type:\", type(inertia_errors))\n",
    "# print(\"inertia_errors len:\", len(inertia_errors))\n",
    "print(\"Inertia:\", inertia_errors)\n",
    "print()\n",
    "# print(\"silhouette_scores type:\", type(silhouette_scores))\n",
    "# print(\"silhouette_scores len:\", len(silhouette_scores))\n",
    "print(\"Silhouette Scores:\", silhouette_scores)"
   ]
  },
  {
   "cell_type": "markdown",
   "id": "5402f651",
   "metadata": {
    "papermill": {
     "duration": 0.020438,
     "end_time": "2024-04-05T08:58:28.876139",
     "exception": false,
     "start_time": "2024-04-05T08:58:28.855701",
     "status": "completed"
    },
    "tags": []
   },
   "source": [
    "Task 6.2.15: Create a line plot that shows the values of inertia_errors as a function of n_clusters. Be sure to label your x-axis \"Number of Clusters\", your y-axis \"Inertia\", and use the title \"K-Means Model: Inertia vs Number of Clusters\"."
   ]
  },
  {
   "cell_type": "code",
   "execution_count": 15,
   "id": "55883803",
   "metadata": {
    "execution": {
     "iopub.execute_input": "2024-04-05T08:58:28.922791Z",
     "iopub.status.busy": "2024-04-05T08:58:28.921715Z",
     "iopub.status.idle": "2024-04-05T08:58:29.301529Z",
     "shell.execute_reply": "2024-04-05T08:58:29.300066Z"
    },
    "papermill": {
     "duration": 0.408331,
     "end_time": "2024-04-05T08:58:29.305337",
     "exception": false,
     "start_time": "2024-04-05T08:58:28.897006",
     "status": "completed"
    },
    "tags": []
   },
   "outputs": [
    {
     "data": {
      "image/png": "[encoded data removed]",
      "text/plain": [
       "<Figure size 640x480 with 1 Axes>"
      ]
     },
     "metadata": {},
     "output_type": "display_data"
    }
   ],
   "source": [
    "# Plot `inertia_errors` by `n_clusters`\n",
    "plt.plot(n_clusters, inertia_errors)\n",
    "plt.xlabel(\"Number of Clusters (k)\")\n",
    "plt.ylabel(\"Inertia\")\n",
    "plt.title(\"K-Means Model: Inertia vs Number of Clusters\");\n"
   ]
  },
  {
   "cell_type": "markdown",
   "id": "feb328b5",
   "metadata": {
    "papermill": {
     "duration": 0.022263,
     "end_time": "2024-04-05T08:58:29.350719",
     "exception": false,
     "start_time": "2024-04-05T08:58:29.328456",
     "status": "completed"
    },
    "tags": []
   },
   "source": [
    "What we're seeing here is that, as the number of clusters increases, inertia goes down. In fact, we could get inertia to 0 if we told our model to make 4,623 clusters (the same number of observations in X), but those clusters wouldn't be helpful to us.\n",
    "\n",
    "The trick with choosing the right number of clusters is to look for the \"bend in the elbow\" for this plot. In other words, we want to pick the point where the drop in inertia becomes less dramatic and the line begins to flatten out. In this case, it looks like the sweet spot is 4 or 5.\n",
    "\n",
    "Let's see what the silhouette score looks like."
   ]
  },
  {
   "cell_type": "markdown",
   "id": "d2e9ea6c",
   "metadata": {
    "papermill": {
     "duration": 0.022401,
     "end_time": "2024-04-05T08:58:29.394955",
     "exception": false,
     "start_time": "2024-04-05T08:58:29.372554",
     "status": "completed"
    },
    "tags": []
   },
   "source": [
    "Task 6.2.16: Create a line plot that shows the values of silhouette_scores as a function of n_clusters. Be sure to label your x-axis \"Number of Clusters\", your y-axis \"Silhouette Score\", and use the title \"K-Means Model: Silhouette Score vs Number of Clusters\"."
   ]
  },
  {
   "cell_type": "code",
   "execution_count": 16,
   "id": "b5ef0e40",
   "metadata": {
    "execution": {
     "iopub.execute_input": "2024-04-05T08:58:29.440611Z",
     "iopub.status.busy": "2024-04-05T08:58:29.440153Z",
     "iopub.status.idle": "2024-04-05T08:58:29.770517Z",
     "shell.execute_reply": "2024-04-05T08:58:29.769189Z"
    },
    "papermill": {
     "duration": 0.357196,
     "end_time": "2024-04-05T08:58:29.773557",
     "exception": false,
     "start_time": "2024-04-05T08:58:29.416361",
     "status": "completed"
    },
    "tags": []
   },
   "outputs": [
    {
     "data": {
      "image/png": "[encoded data removed]",
      "text/plain": [
       "<Figure size 640x480 with 1 Axes>"
      ]
     },
     "metadata": {},
     "output_type": "display_data"
    }
   ],
   "source": [
    "# Plot `silhouette_scores` vs `n_clusters`\n",
    "plt.plot(n_clusters, silhouette_scores)\n",
    "plt.xlabel(\"Number of Clusters\")\n",
    "plt.ylabel(\"Silhouette Score\")\n",
    "plt.title(\"K-Means Model: Silhouette Score vs Number of Clusters\");\n"
   ]
  },
  {
   "cell_type": "markdown",
   "id": "70f6a8a4",
   "metadata": {
    "papermill": {
     "duration": 0.021498,
     "end_time": "2024-04-05T08:58:29.817475",
     "exception": false,
     "start_time": "2024-04-05T08:58:29.795977",
     "status": "completed"
    },
    "tags": []
   },
   "source": [
    "Note that, in contrast to our inertia plot, bigger is better. So we're not looking for a \"bend in the elbow\" but rather a number of clusters for which the silhouette score still remains high. We can see that silhouette score drops drastically beyond 4 clusters. Given this and what we saw in the inertia plot, it looks like the optimal number of clusters is 4.\n",
    "\n",
    "Now that we've decided on the final number of clusters, let's build a final model."
   ]
  },
  {
   "cell_type": "markdown",
   "id": "6660b4fc",
   "metadata": {
    "papermill": {
     "duration": 0.022189,
     "end_time": "2024-04-05T08:58:29.861617",
     "exception": false,
     "start_time": "2024-04-05T08:58:29.839428",
     "status": "completed"
    },
    "tags": []
   },
   "source": [
    "Task 6.2.17: Build and train a new k-means model named final_model. Use the information you gained from the two plots above to set an appropriate value for the n_clusters argument. Once you've built and trained your model, submit it to the grader for evaluation."
   ]
  },
  {
   "cell_type": "code",
   "execution_count": 17,
   "id": "6222eb6c",
   "metadata": {
    "execution": {
     "iopub.execute_input": "2024-04-05T08:58:29.908669Z",
     "iopub.status.busy": "2024-04-05T08:58:29.907622Z",
     "iopub.status.idle": "2024-04-05T08:58:30.873216Z",
     "shell.execute_reply": "2024-04-05T08:58:30.872010Z"
    },
    "papermill": {
     "duration": 0.99298,
     "end_time": "2024-04-05T08:58:30.876557",
     "exception": false,
     "start_time": "2024-04-05T08:58:29.883577",
     "status": "completed"
    },
    "tags": []
   },
   "outputs": [
    {
     "name": "stdout",
     "output_type": "stream",
     "text": [
      "final_model type: <class 'sklearn.cluster._kmeans.KMeans'>\n"
     ]
    },
    {
     "name": "stderr",
     "output_type": "stream",
     "text": [
      "/opt/conda/lib/python3.10/site-packages/sklearn/cluster/_kmeans.py:870: FutureWarning: The default value of `n_init` will change from 10 to 'auto' in 1.4. Set the value of `n_init` explicitly to suppress the warning\n",
      "  warnings.warn(\n"
     ]
    },
    {
     "data": {
      "text/html": [
       "<style>#sk-container-id-2 {color: black;background-color: white;}#sk-container-id-2 pre{padding: 0;}#sk-container-id-2 div.sk-toggleable {background-color: white;}#sk-container-id-2 label.sk-toggleable__label {cursor: pointer;display: block;width: 100%;margin-bottom: 0;padding: 0.3em;box-sizing: border-box;text-align: center;}#sk-container-id-2 label.sk-toggleable__label-arrow:before {content: \"▸\";float: left;margin-right: 0.25em;color: #696969;}#sk-container-id-2 label.sk-toggleable__label-arrow:hover:before {color: black;}#sk-container-id-2 div.sk-estimator:hover label.sk-toggleable__label-arrow:before {color: black;}#sk-container-id-2 div.sk-toggleable__content {max-height: 0;max-width: 0;overflow: hidden;text-align: left;background-color: #f0f8ff;}#sk-container-id-2 div.sk-toggleable__content pre {margin: 0.2em;color: black;border-radius: 0.25em;background-color: #f0f8ff;}#sk-container-id-2 input.sk-toggleable__control:checked~div.sk-toggleable__content {max-height: 200px;max-width: 100%;overflow: auto;}#sk-container-id-2 input.sk-toggleable__control:checked~label.sk-toggleable__label-arrow:before {content: \"▾\";}#sk-container-id-2 div.sk-estimator input.sk-toggleable__control:checked~label.sk-toggleable__label {background-color: #d4ebff;}#sk-container-id-2 div.sk-label input.sk-toggleable__control:checked~label.sk-toggleable__label {background-color: #d4ebff;}#sk-container-id-2 input.sk-hidden--visually {border: 0;clip: rect(1px 1px 1px 1px);clip: rect(1px, 1px, 1px, 1px);height: 1px;margin: -1px;overflow: hidden;padding: 0;position: absolute;width: 1px;}#sk-container-id-2 div.sk-estimator {font-family: monospace;background-color: #f0f8ff;border: 1px dotted black;border-radius: 0.25em;box-sizing: border-box;margin-bottom: 0.5em;}#sk-container-id-2 div.sk-estimator:hover {background-color: #d4ebff;}#sk-container-id-2 div.sk-parallel-item::after {content: \"\";width: 100%;border-bottom: 1px solid gray;flex-grow: 1;}#sk-container-id-2 div.sk-label:hover label.sk-toggleable__label {background-color: #d4ebff;}#sk-container-id-2 div.sk-serial::before {content: \"\";position: absolute;border-left: 1px solid gray;box-sizing: border-box;top: 0;bottom: 0;left: 50%;z-index: 0;}#sk-container-id-2 div.sk-serial {display: flex;flex-direction: column;align-items: center;background-color: white;padding-right: 0.2em;padding-left: 0.2em;position: relative;}#sk-container-id-2 div.sk-item {position: relative;z-index: 1;}#sk-container-id-2 div.sk-parallel {display: flex;align-items: stretch;justify-content: center;background-color: white;position: relative;}#sk-container-id-2 div.sk-item::before, #sk-container-id-2 div.sk-parallel-item::before {content: \"\";position: absolute;border-left: 1px solid gray;box-sizing: border-box;top: 0;bottom: 0;left: 50%;z-index: -1;}#sk-container-id-2 div.sk-parallel-item {display: flex;flex-direction: column;z-index: 1;position: relative;background-color: white;}#sk-container-id-2 div.sk-parallel-item:first-child::after {align-self: flex-end;width: 50%;}#sk-container-id-2 div.sk-parallel-item:last-child::after {align-self: flex-start;width: 50%;}#sk-container-id-2 div.sk-parallel-item:only-child::after {width: 0;}#sk-container-id-2 div.sk-dashed-wrapped {border: 1px dashed gray;margin: 0 0.4em 0.5em 0.4em;box-sizing: border-box;padding-bottom: 0.4em;background-color: white;}#sk-container-id-2 div.sk-label label {font-family: monospace;font-weight: bold;display: inline-block;line-height: 1.2em;}#sk-container-id-2 div.sk-label-container {text-align: center;}#sk-container-id-2 div.sk-container {/* jupyter's `normalize.less` sets `[hidden] { display: none; }` but bootstrap.min.css set `[hidden] { display: none !important; }` so we also need the `!important` here to be able to override the default hidden behavior on the sphinx rendered scikit-learn.org. See: https://github.com/scikit-learn/scikit-learn/issues/21755 */display: inline-block !important;position: relative;}#sk-container-id-2 div.sk-text-repr-fallback {display: none;}</style><div id=\"sk-container-id-2\" class=\"sk-top-container\"><div class=\"sk-text-repr-fallback\"><pre>KMeans(n_clusters=4, random_state=42)</pre><b>In a Jupyter environment, please rerun this cell to show the HTML representation or trust the notebook. <br />On GitHub, the HTML representation is unable to render, please try loading this page with nbviewer.org.</b></div><div class=\"sk-container\" hidden><div class=\"sk-item\"><div class=\"sk-estimator sk-toggleable\"><input class=\"sk-toggleable__control sk-hidden--visually\" id=\"sk-estimator-id-2\" type=\"checkbox\" checked><label for=\"sk-estimator-id-2\" class=\"sk-toggleable__label sk-toggleable__label-arrow\">KMeans</label><div class=\"sk-toggleable__content\"><pre>KMeans(n_clusters=4, random_state=42)</pre></div></div></div></div></div>"
      ],
      "text/plain": [
       "KMeans(n_clusters=4, random_state=42)"
      ]
     },
     "execution_count": 17,
     "metadata": {},
     "output_type": "execute_result"
    }
   ],
   "source": [
    "# Build model\n",
    "final_model = KMeans(n_clusters=4, random_state=42)\n",
    "print(\"final_model type:\", type(final_model))\n",
    "\n",
    "# Fit model to data\n",
    "final_model.fit(X)\n",
    "\n",
    "# Assert that model has been fit to data\n",
    "# check_is_fitted(final_model)"
   ]
  },
  {
   "cell_type": "markdown",
   "id": "df26f9a7",
   "metadata": {
    "papermill": {
     "duration": 0.022242,
     "end_time": "2024-04-05T08:58:30.922591",
     "exception": false,
     "start_time": "2024-04-05T08:58:30.900349",
     "status": "completed"
    },
    "tags": []
   },
   "source": [
    "`6. Communicate`"
   ]
  },
  {
   "cell_type": "markdown",
   "id": "539df298",
   "metadata": {
    "papermill": {
     "duration": 0.022139,
     "end_time": "2024-04-05T08:58:30.967613",
     "exception": false,
     "start_time": "2024-04-05T08:58:30.945474",
     "status": "completed"
    },
    "tags": []
   },
   "source": [
    "Task 6.2.18: Create one last \"Home Value vs. Household Debt\" scatter plot that shows the clusters that your final_model has assigned to the training data."
   ]
  },
  {
   "cell_type": "code",
   "execution_count": 18,
   "id": "6c23bc77",
   "metadata": {
    "execution": {
     "iopub.execute_input": "2024-04-05T08:58:31.015131Z",
     "iopub.status.busy": "2024-04-05T08:58:31.014722Z",
     "iopub.status.idle": "2024-04-05T08:58:31.802809Z",
     "shell.execute_reply": "2024-04-05T08:58:31.801429Z"
    },
    "papermill": {
     "duration": 0.815072,
     "end_time": "2024-04-05T08:58:31.805744",
     "exception": false,
     "start_time": "2024-04-05T08:58:30.990672",
     "status": "completed"
    },
    "tags": []
   },
   "outputs": [
    {
     "data": {
      "text/plain": [
       "Text(0.5, 1.0, 'Credit Fearful: Home Value vs. Household Debt')"
      ]
     },
     "execution_count": 18,
     "metadata": {},
     "output_type": "execute_result"
    },
    {
     "data": {
      "image/png": "[encoded data removed]",
      "text/plain": [
       "<Figure size 640x480 with 1 Axes>"
      ]
     },
     "metadata": {},
     "output_type": "display_data"
    }
   ],
   "source": [
    "# Import necessary libraries\n",
    "import seaborn as sns\n",
    "import matplotlib.pyplot as plt\n",
    "\n",
    "# Plot \"HOUSES\" vs \"DEBT\" with final_model labels\n",
    "sns.scatterplot(\n",
    "    x=df[\"DEBT\"] / 1e6,  # x-axis: household debt in millions\n",
    "    y=df[\"HOUSES\"] / 1e6,  # y-axis: home value in millions\n",
    "    hue=final_model.labels_,  # color by cluster labels\n",
    "    palette=\"deep\"  # set color palette\n",
    ")\n",
    "plt.xlabel(\"Household Debt [$1M]\")  # x-axis label\n",
    "plt.ylabel(\"Home Value [$1M]\")  # y-axis label\n",
    "plt.title(\"Credit Fearful: Home Value vs. Household Debt\")  # plot title\n"
   ]
  },
  {
   "cell_type": "markdown",
   "id": "3abba9ac",
   "metadata": {
    "papermill": {
     "duration": 0.022741,
     "end_time": "2024-04-05T08:58:31.851682",
     "exception": false,
     "start_time": "2024-04-05T08:58:31.828941",
     "status": "completed"
    },
    "tags": []
   },
   "source": [
    "Nice! You can see all four of our clusters, each differentiated from the rest by color.\n",
    "\n",
    "We're going to make one more visualization, converting the cluster analysis we just did to something a little more actionable: a side-by-side bar chart. In order to do that, we need to put our clustered data into a DataFrame."
   ]
  },
  {
   "cell_type": "markdown",
   "id": "abc47ef5",
   "metadata": {
    "papermill": {
     "duration": 0.023407,
     "end_time": "2024-04-05T08:58:31.898702",
     "exception": false,
     "start_time": "2024-04-05T08:58:31.875295",
     "status": "completed"
    },
    "tags": []
   },
   "source": [
    "Task 6.2.19: Create a DataFrame xgb that contains the mean \"DEBT\" and \"HOUSES\" values for each of the clusters in your final_model."
   ]
  },
  {
   "cell_type": "code",
   "execution_count": 19,
   "id": "92477fdf",
   "metadata": {
    "execution": {
     "iopub.execute_input": "2024-04-05T08:58:31.948079Z",
     "iopub.status.busy": "2024-04-05T08:58:31.946869Z",
     "iopub.status.idle": "2024-04-05T08:58:31.966744Z",
     "shell.execute_reply": "2024-04-05T08:58:31.965408Z"
    },
    "papermill": {
     "duration": 0.048189,
     "end_time": "2024-04-05T08:58:31.969850",
     "exception": false,
     "start_time": "2024-04-05T08:58:31.921661",
     "status": "completed"
    },
    "tags": []
   },
   "outputs": [
    {
     "data": {
      "text/html": [
       "<div>\n",
       "<style scoped>\n",
       "    .dataframe tbody tr th:only-of-type {\n",
       "        vertical-align: middle;\n",
       "    }\n",
       "\n",
       "    .dataframe tbody tr th {\n",
       "        vertical-align: top;\n",
       "    }\n",
       "\n",
       "    .dataframe thead th {\n",
       "        text-align: right;\n",
       "    }\n",
       "</style>\n",
       "<table border=\"1\" class=\"dataframe\">\n",
       "  <thead>\n",
       "    <tr style=\"text-align: right;\">\n",
       "      <th></th>\n",
       "      <th>DEBT</th>\n",
       "      <th>HOUSES</th>\n",
       "    </tr>\n",
       "  </thead>\n",
       "  <tbody>\n",
       "    <tr>\n",
       "      <th>0</th>\n",
       "      <td>9.840064e+04</td>\n",
       "      <td>1.196152e+05</td>\n",
       "    </tr>\n",
       "    <tr>\n",
       "      <th>1</th>\n",
       "      <td>2.131095e+07</td>\n",
       "      <td>3.997404e+07</td>\n",
       "    </tr>\n",
       "    <tr>\n",
       "      <th>2</th>\n",
       "      <td>6.344099e+06</td>\n",
       "      <td>1.631466e+07</td>\n",
       "    </tr>\n",
       "    <tr>\n",
       "      <th>3</th>\n",
       "      <td>2.806353e+06</td>\n",
       "      <td>5.276040e+06</td>\n",
       "    </tr>\n",
       "  </tbody>\n",
       "</table>\n",
       "</div>"
      ],
      "text/plain": [
       "           DEBT        HOUSES\n",
       "0  9.840064e+04  1.196152e+05\n",
       "1  2.131095e+07  3.997404e+07\n",
       "2  6.344099e+06  1.631466e+07\n",
       "3  2.806353e+06  5.276040e+06"
      ]
     },
     "execution_count": 19,
     "metadata": {},
     "output_type": "execute_result"
    }
   ],
   "source": [
    "xgb = X.groupby(final_model.labels_).mean()\n",
    "\n",
    "# print(\"xgb type:\", type(xgb))\n",
    "# print(\"xgb shape:\", xgb.shape)\n",
    "xgb"
   ]
  },
  {
   "cell_type": "markdown",
   "id": "4423b267",
   "metadata": {
    "papermill": {
     "duration": 0.022718,
     "end_time": "2024-04-05T08:58:32.015854",
     "exception": false,
     "start_time": "2024-04-05T08:58:31.993136",
     "status": "completed"
    },
    "tags": []
   },
   "source": [
    "Task 6.2.20: Create a side-by-side bar chart from xgb that shows the mean \"DEBT\" and \"HOUSES\" values for each of the clusters in your final_model. For readability, you'll want to divide the values in xgb by 1 million. Be sure to label the x-axis \"Cluster\", the y-axis \"Value [$1 million]\", and use the title \"Mean Home Value & Household Debt by Cluster\"."
   ]
  },
  {
   "cell_type": "code",
   "execution_count": 20,
   "id": "df833470",
   "metadata": {
    "execution": {
     "iopub.execute_input": "2024-04-05T08:58:32.063868Z",
     "iopub.status.busy": "2024-04-05T08:58:32.063438Z",
     "iopub.status.idle": "2024-04-05T08:58:32.461923Z",
     "shell.execute_reply": "2024-04-05T08:58:32.460659Z"
    },
    "papermill": {
     "duration": 0.426405,
     "end_time": "2024-04-05T08:58:32.465165",
     "exception": false,
     "start_time": "2024-04-05T08:58:32.038760",
     "status": "completed"
    },
    "tags": []
   },
   "outputs": [
    {
     "data": {
      "image/png": "[encoded data removed]",
      "text/plain": [
       "<Figure size 640x480 with 1 Axes>"
      ]
     },
     "metadata": {},
     "output_type": "display_data"
    }
   ],
   "source": [
    "# Create side-by-side bar chart of `xgb`\n",
    "(xgb / 1e6).plot(kind=\"bar\")\n",
    "plt.xlabel(\"Cluster\")\n",
    "plt.ylabel(\"Value [$1 million]\")\n",
    "plt.title(\"Mean Home Value & Household Debt by Cluster\");"
   ]
  },
  {
   "cell_type": "code",
   "execution_count": 21,
   "id": "713a02f1",
   "metadata": {
    "execution": {
     "iopub.execute_input": "2024-04-05T08:58:32.514557Z",
     "iopub.status.busy": "2024-04-05T08:58:32.514083Z",
     "iopub.status.idle": "2024-04-05T08:58:32.856292Z",
     "shell.execute_reply": "2024-04-05T08:58:32.854941Z"
    },
    "papermill": {
     "duration": 0.370521,
     "end_time": "2024-04-05T08:58:32.859442",
     "exception": false,
     "start_time": "2024-04-05T08:58:32.488921",
     "status": "completed"
    },
    "tags": []
   },
   "outputs": [
    {
     "data": {
      "image/png": "[encoded data removed]",
      "text/plain": [
       "<Figure size 640x480 with 1 Axes>"
      ]
     },
     "metadata": {},
     "output_type": "display_data"
    }
   ],
   "source": [
    "(xgb[\"DEBT\"] / xgb[\"HOUSES\"]).plot(\n",
    "    kind=\"bar\",\n",
    "    xlabel=\"Cluster\",\n",
    "    ylabel=\"Proportion, DEBT/HOME\",\n",
    "    title=\"Proportion of Debt to Home Value\"\n",
    ");"
   ]
  },
  {
   "cell_type": "markdown",
   "id": "cbfe1454",
   "metadata": {
    "papermill": {
     "duration": 0.026014,
     "end_time": "2024-04-05T08:58:32.910416",
     "exception": false,
     "start_time": "2024-04-05T08:58:32.884402",
     "status": "completed"
    },
    "tags": []
   },
   "source": [
    "In this plot, we have our four clusters spread across the x-axis, and the dollar amounts for home value and household debt on the y-axis.\n",
    "\n",
    "The first thing to look at in this chart is the different mean home values for the five clusters. Clusters 0 represents households with small to moderate home values, clusters 2 and 3 have high home values, and cluster 1 has extremely high values.\n",
    "\n",
    "The second thing to look at is the proportion of debt to home value. In clusters 1 and 3, this proportion is around 0.5. This suggests that these groups have a moderate amount of untapped equity in their homes. But for group 0, it's almost 1, which suggests that the largest source of household debt is their mortgage. Group 2 is unique in that they have the smallest proportion of debt to home value, around 0.4.\n",
    "\n",
    "This information could be useful to financial institution that want to target customers with products that would appeal to them. For instance, households in group 0 might be interested in refinancing their mortgage to lower their interest rate. Group 2 households could be interested in a home equity line of credit because they have more equity in their homes. And the bankers, Bill Gates, and Beyoncés in group 1 might want white-glove personalized wealth management."
   ]
  }
 ],
 "metadata": {
  "kaggle": {
   "accelerator": "none",
   "dataSources": [
    {
     "datasetId": 4736220,
     "sourceId": 8034632,
     "sourceType": "datasetVersion"
    },
    {
     "datasetId": 4736245,
     "sourceId": 8034662,
     "sourceType": "datasetVersion"
    }
   ],
   "dockerImageVersionId": 30673,
   "isGpuEnabled": false,
   "isInternetEnabled": true,
   "language": "python",
   "sourceType": "notebook"
  },
  "kernelspec": {
   "display_name": "Python 3",
   "language": "python",
   "name": "python3"
  },
  "language_info": {
   "codemirror_mode": {
    "name": "ipython",
    "version": 3
   },
   "file_extension": ".py",
   "mimetype": "text/x-python",
   "name": "python",
   "nbconvert_exporter": "python",
   "pygments_lexer": "ipython3",
   "version": "3.10.13"
  },
  "papermill": {
   "default_parameters": {},
   "duration": 35.113789,
   "end_time": "2024-04-05T08:58:33.658511",
   "environment_variables": {},
   "exception": null,
   "input_path": "__notebook__.ipynb",
   "output_path": "__notebook__.ipynb",
   "parameters": {},
   "start_time": "2024-04-05T08:57:58.544722",
   "version": "2.5.0"
  }
 },
 "nbformat": 4,
 "nbformat_minor": 5
}
